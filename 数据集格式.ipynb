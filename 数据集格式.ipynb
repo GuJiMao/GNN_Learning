{
  "nbformat": 4,
  "nbformat_minor": 0,
  "metadata": {
    "colab": {
      "name": "数据集格式.ipynb",
      "provenance": [],
      "authorship_tag": "ABX9TyPqZEv1aFtxoL0TeEIku9D0",
      "include_colab_link": true
    },
    "kernelspec": {
      "name": "python3",
      "display_name": "Python 3"
    },
    "language_info": {
      "name": "python"
    }
  },
  "cells": [
    {
      "cell_type": "markdown",
      "metadata": {
        "id": "view-in-github",
        "colab_type": "text"
      },
      "source": [
        "<a href=\"https://colab.research.google.com/github/GuJiMao/GNN_Learning/blob/main/%E6%95%B0%E6%8D%AE%E9%9B%86%E6%A0%BC%E5%BC%8F.ipynb\" target=\"_parent\"><img src=\"https://colab.research.google.com/assets/colab-badge.svg\" alt=\"Open In Colab\"/></a>"
      ]
    },
    {
      "cell_type": "markdown",
      "metadata": {
        "id": "DHLJMs-kAm1s"
      },
      "source": [
        "# 载入数据集"
      ]
    },
    {
      "cell_type": "markdown",
      "metadata": {
        "id": "Ara-w8BcAwlp"
      },
      "source": [
        "原作者提供了一些关于[数据集加载的例子](https://github.com/rusty1s/pytorch_geometric/blob/master/torch_geometric/datasets)，可以其中的一个`amazon.py`打开看一下"
      ]
    },
    {
      "cell_type": "code",
      "metadata": {
        "id": "jcVPPOS3Aj7B"
      },
      "source": [
        "import os.path as osp\n",
        "\n",
        "import torch\n",
        "from torch_geometric.data import InMemoryDataset, download_url\n",
        "from torch_geometric.io import read_npz\n",
        "\n",
        "\n",
        "class Amazon(InMemoryDataset):\n",
        "    r\"\"\"The Amazon Computers and Amazon Photo networks from the\n",
        "    `\"Pitfalls of Graph Neural Network Evaluation\"\n",
        "    <https://arxiv.org/abs/1811.05868>`_ paper.\n",
        "    Nodes represent goods and edges represent that two goods are frequently\n",
        "    bought together.\n",
        "    Given product reviews as bag-of-words node features, the task is to\n",
        "    map goods to their respective product category.\n",
        "    Args:\n",
        "        root (string): Root directory where the dataset should be saved.\n",
        "        name (string): The name of the dataset (:obj:`\"Computers\"`,\n",
        "            :obj:`\"Photo\"`).\n",
        "        transform (callable, optional): A function/transform that takes in an\n",
        "            :obj:`torch_geometric.data.Data` object and returns a transformed\n",
        "            version. The data object will be transformed before every access.\n",
        "            (default: :obj:`None`)\n",
        "        pre_transform (callable, optional): A function/transform that takes in\n",
        "            an :obj:`torch_geometric.data.Data` object and returns a\n",
        "            transformed version. The data object will be transformed before\n",
        "            being saved to disk. (default: :obj:`None`)\n",
        "    \"\"\"\n",
        "\n",
        "    url = 'https://github.com/shchur/gnn-benchmark/raw/master/data/npz/'\n",
        "\n",
        "    def __init__(self, root, name, transform=None, pre_transform=None):\n",
        "        self.name = name.lower()\n",
        "        assert self.name in ['computers', 'photo']\n",
        "        super(Amazon, self).__init__(root, transform, pre_transform)\n",
        "        self.data, self.slices = torch.load(self.processed_paths[0])\n",
        "\n",
        "    @property\n",
        "    def raw_dir(self):\n",
        "        return osp.join(self.root, self.name.capitalize(), 'raw')\n",
        "\n",
        "    @property\n",
        "    def processed_dir(self):\n",
        "        return osp.join(self.root, self.name.capitalize(), 'processed')\n",
        "\n",
        "    @property\n",
        "    def raw_file_names(self):\n",
        "        return 'amazon_electronics_{}.npz'.format(self.name.lower())\n",
        "\n",
        "    @property\n",
        "    def processed_file_names(self):\n",
        "        return 'data.pt'\n",
        "\n",
        "    def download(self):\n",
        "        download_url(self.url + self.raw_file_names, self.raw_dir)\n",
        "\n",
        "    def process(self):\n",
        "        data = read_npz(self.raw_paths[0])\n",
        "        data = data if self.pre_transform is None else self.pre_transform(data)\n",
        "        data, slices = self.collate([data])\n",
        "        torch.save((data, slices), self.processed_paths[0])\n",
        "\n",
        "    def __repr__(self):\n",
        "        return '{}{}()'.format(self.__class__.__name__, self.name.capitalize())\n"
      ],
      "execution_count": null,
      "outputs": []
    },
    {
      "cell_type": "markdown",
      "metadata": {
        "id": "kVRAaL0sMUtG"
      },
      "source": [
        "# 数据格式\n",
        "我在本地查看了一下数据的格式，因为后期我们要准备的是自己的数据，所以要看一下这些教程的数据长什么样子"
      ]
    },
    {
      "cell_type": "code",
      "metadata": {
        "id": "Kvz7bg60NWnu"
      },
      "source": [
        "import numpy as np\n",
        "\n",
        "\n",
        "data = np.load('F:/浏览器下载/amazon_electronics_photo.npz',allow_pickle = True)  # 加载数据\n",
        "print(data.files)  # 查看npz文件下有几个压缩文件npy\n",
        "print(type(data.files))\n",
        "data_dict = {}\n",
        "for file_name in data.files:\n",
        "    data_dict[file_name] = data[file_name] # 提取其中的columns数组，视为数据的标签\n",
        "for key in data_dict.keys():\n",
        "    print('数据的名字：{0}， 数据的大小：{1}'.format(key, data_dict[key].shape))"
      ],
      "execution_count": null,
      "outputs": []
    },
    {
      "cell_type": "markdown",
      "metadata": {
        "id": "FVk_IKhgNXw7"
      },
      "source": [
        "输出：\n",
        "\n",
        "数据的名字：adj_data， 数据的大小：(143663,)\n",
        "\n",
        "数据的名字：adj_indices， 数据的大小：(143663,)\n",
        "\n",
        "数据的名字：adj_indptr， 数据的大小：(7651,)\n",
        "\n",
        "数据的名字：adj_shape， 数据的大小：(2,)\n",
        "\n",
        "数据的名字：attr_data， 数据的大小：(1979909,)\n",
        "\n",
        "数据的名字：attr_indices， 数据的大小：(1979909,)\n",
        "\n",
        "数据的名字：attr_indptr， 数据的大小：(7651,)\n",
        "\n",
        "数据的名字：attr_shape， 数据的大小：(2,)\n",
        "\n",
        "数据的名字：labels， 数据的大小：(7650,)\n",
        "\n",
        "数据的名字：class_names， 数据的大小：(8,)\n",
        ">\n"
      ]
    }
  ]
}