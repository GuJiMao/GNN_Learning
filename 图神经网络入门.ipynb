{
  "nbformat": 4,
  "nbformat_minor": 0,
  "metadata": {
    "colab": {
      "name": "图神经网络入门.ipynb",
      "provenance": [],
      "collapsed_sections": [],
      "authorship_tag": "ABX9TyMB2tVs8UzEhVjhLtkKhiFu",
      "include_colab_link": true
    },
    "kernelspec": {
      "name": "python3",
      "display_name": "Python 3"
    },
    "language_info": {
      "name": "python"
    }
  },
  "cells": [
    {
      "cell_type": "markdown",
      "metadata": {
        "id": "view-in-github",
        "colab_type": "text"
      },
      "source": [
        "<a href=\"https://colab.research.google.com/github/GuJiMao/GNN_Learning/blob/main/%E5%9B%BE%E7%A5%9E%E7%BB%8F%E7%BD%91%E7%BB%9C%E5%85%A5%E9%97%A8.ipynb\" target=\"_parent\"><img src=\"https://colab.research.google.com/assets/colab-badge.svg\" alt=\"Open In Colab\"/></a>"
      ]
    },
    {
      "cell_type": "markdown",
      "metadata": {
        "id": "88Re9CfQPSIs"
      },
      "source": [
        "# 安装"
      ]
    },
    {
      "cell_type": "markdown",
      "metadata": {
        "id": "w2OaUYFIP8fZ"
      },
      "source": [
        "## torch-scatter"
      ]
    },
    {
      "cell_type": "code",
      "metadata": {
        "colab": {
          "base_uri": "https://localhost:8080/"
        },
        "id": "w14BHiVePejw",
        "outputId": "d5d777c1-658c-432c-e194-39f42f72fd99"
      },
      "source": [
        "pip install torch-scatter -f https://pytorch-geometric.com/whl/torch-1.8.0+cu101.html"
      ],
      "execution_count": 5,
      "outputs": [
        {
          "output_type": "stream",
          "text": [
            "Looking in links: https://pytorch-geometric.com/whl/torch-1.8.0+cu101.html\n",
            "Collecting torch-scatter\n",
            "\u001b[?25l  Downloading https://pytorch-geometric.com/whl/torch-1.8.0%2Bcu101/torch_scatter-2.0.6-cp37-cp37m-linux_x86_64.whl (2.5MB)\n",
            "\u001b[K     |████████████████████████████████| 2.6MB 6.7MB/s \n",
            "\u001b[?25hInstalling collected packages: torch-scatter\n",
            "Successfully installed torch-scatter-2.0.6\n"
          ],
          "name": "stdout"
        }
      ]
    },
    {
      "cell_type": "markdown",
      "metadata": {
        "id": "wz5bVb2dQCC6"
      },
      "source": [
        "## torch-sparse"
      ]
    },
    {
      "cell_type": "code",
      "metadata": {
        "colab": {
          "base_uri": "https://localhost:8080/"
        },
        "id": "hIXK5-e4PvK2",
        "outputId": "7bc882d0-4f05-4b97-9aa2-4660ce032ef3"
      },
      "source": [
        "pip install torch-sparse -f https://pytorch-geometric.com/whl/torch-1.8.0+cu101.html"
      ],
      "execution_count": 6,
      "outputs": [
        {
          "output_type": "stream",
          "text": [
            "Looking in links: https://pytorch-geometric.com/whl/torch-1.8.0+cu101.html\n",
            "Collecting torch-sparse\n",
            "\u001b[?25l  Downloading https://pytorch-geometric.com/whl/torch-1.8.0%2Bcu101/torch_sparse-0.6.9-cp37-cp37m-linux_x86_64.whl (1.5MB)\n",
            "\u001b[K     |████████████████████████████████| 1.5MB 7.6MB/s \n",
            "\u001b[?25hRequirement already satisfied: scipy in /usr/local/lib/python3.7/dist-packages (from torch-sparse) (1.4.1)\n",
            "Requirement already satisfied: numpy>=1.13.3 in /usr/local/lib/python3.7/dist-packages (from scipy->torch-sparse) (1.19.5)\n",
            "Installing collected packages: torch-sparse\n",
            "Successfully installed torch-sparse-0.6.9\n"
          ],
          "name": "stdout"
        }
      ]
    },
    {
      "cell_type": "markdown",
      "metadata": {
        "id": "ItIo2WElQEZS"
      },
      "source": [
        "## torch-cluster"
      ]
    },
    {
      "cell_type": "code",
      "metadata": {
        "colab": {
          "base_uri": "https://localhost:8080/"
        },
        "id": "WiIqGd6bP0C7",
        "outputId": "d4f9c257-c292-4b6f-8476-b13328814f9a"
      },
      "source": [
        "pip install torch-cluster -f https://pytorch-geometric.com/whl/torch-1.8.0+cu101.html"
      ],
      "execution_count": 7,
      "outputs": [
        {
          "output_type": "stream",
          "text": [
            "Looking in links: https://pytorch-geometric.com/whl/torch-1.8.0+cu101.html\n",
            "Collecting torch-cluster\n",
            "\u001b[?25l  Downloading https://pytorch-geometric.com/whl/torch-1.8.0%2Bcu101/torch_cluster-1.5.9-cp37-cp37m-linux_x86_64.whl (1.0MB)\n",
            "\u001b[K     |████████████████████████████████| 1.0MB 6.8MB/s \n",
            "\u001b[?25hInstalling collected packages: torch-cluster\n",
            "Successfully installed torch-cluster-1.5.9\n"
          ],
          "name": "stdout"
        }
      ]
    },
    {
      "cell_type": "markdown",
      "metadata": {
        "id": "8YankcVhQG2k"
      },
      "source": [
        "## torch-spline-conv"
      ]
    },
    {
      "cell_type": "code",
      "metadata": {
        "colab": {
          "base_uri": "https://localhost:8080/"
        },
        "id": "evBpsh-pP2x6",
        "outputId": "af4763c4-3b05-4ff1-970a-26822af40fd2"
      },
      "source": [
        "pip install torch-spline-conv -f https://pytorch-geometric.com/whl/torch-1.8.0+cu101.html"
      ],
      "execution_count": 8,
      "outputs": [
        {
          "output_type": "stream",
          "text": [
            "Looking in links: https://pytorch-geometric.com/whl/torch-1.8.0+cu101.html\n",
            "Collecting torch-spline-conv\n",
            "\u001b[?25l  Downloading https://pytorch-geometric.com/whl/torch-1.8.0%2Bcu101/torch_spline_conv-1.2.1-cp37-cp37m-linux_x86_64.whl (386kB)\n",
            "\u001b[K     |████████████████████████████████| 389kB 6.7MB/s \n",
            "\u001b[?25hInstalling collected packages: torch-spline-conv\n",
            "Successfully installed torch-spline-conv-1.2.1\n"
          ],
          "name": "stdout"
        }
      ]
    },
    {
      "cell_type": "markdown",
      "metadata": {
        "id": "0t-bq_6mQLXy"
      },
      "source": [
        "## torch_geometric"
      ]
    },
    {
      "cell_type": "code",
      "metadata": {
        "colab": {
          "base_uri": "https://localhost:8080/"
        },
        "id": "6LAafFAEP5nr",
        "outputId": "1a778f97-fc6d-418a-dd0f-d664f3af1a98"
      },
      "source": [
        "pip install torch_geometric"
      ],
      "execution_count": 9,
      "outputs": [
        {
          "output_type": "stream",
          "text": [
            "Collecting torch_geometric\n",
            "\u001b[?25l  Downloading https://files.pythonhosted.org/packages/59/5c/3e95b76321fb14f24cc2ace392075717f645c4632e796ee0db1bc7d17231/torch_geometric-1.6.3.tar.gz (186kB)\n",
            "\u001b[K     |████████████████████████████████| 194kB 8.2MB/s \n",
            "\u001b[?25hRequirement already satisfied: torch in /usr/local/lib/python3.7/dist-packages (from torch_geometric) (1.8.0+cu101)\n",
            "Requirement already satisfied: numpy in /usr/local/lib/python3.7/dist-packages (from torch_geometric) (1.19.5)\n",
            "Requirement already satisfied: tqdm in /usr/local/lib/python3.7/dist-packages (from torch_geometric) (4.41.1)\n",
            "Requirement already satisfied: scipy in /usr/local/lib/python3.7/dist-packages (from torch_geometric) (1.4.1)\n",
            "Requirement already satisfied: networkx in /usr/local/lib/python3.7/dist-packages (from torch_geometric) (2.5)\n",
            "Requirement already satisfied: python-louvain in /usr/local/lib/python3.7/dist-packages (from torch_geometric) (0.15)\n",
            "Requirement already satisfied: scikit-learn in /usr/local/lib/python3.7/dist-packages (from torch_geometric) (0.22.2.post1)\n",
            "Requirement already satisfied: numba in /usr/local/lib/python3.7/dist-packages (from torch_geometric) (0.51.2)\n",
            "Requirement already satisfied: requests in /usr/local/lib/python3.7/dist-packages (from torch_geometric) (2.23.0)\n",
            "Requirement already satisfied: pandas in /usr/local/lib/python3.7/dist-packages (from torch_geometric) (1.1.5)\n",
            "Collecting rdflib\n",
            "\u001b[?25l  Downloading https://files.pythonhosted.org/packages/d0/6b/6454aa1db753c0f8bc265a5bd5c10b5721a4bb24160fb4faf758cf6be8a1/rdflib-5.0.0-py3-none-any.whl (231kB)\n",
            "\u001b[K     |████████████████████████████████| 235kB 10.9MB/s \n",
            "\u001b[?25hRequirement already satisfied: h5py in /usr/local/lib/python3.7/dist-packages (from torch_geometric) (2.10.0)\n",
            "Requirement already satisfied: googledrivedownloader in /usr/local/lib/python3.7/dist-packages (from torch_geometric) (0.4)\n",
            "Collecting ase\n",
            "\u001b[?25l  Downloading https://files.pythonhosted.org/packages/a5/36/de17e79f29e06d9a92746d0dd9ec4636487ab03f6af10e78586aae533f7a/ase-3.21.1-py3-none-any.whl (2.2MB)\n",
            "\u001b[K     |████████████████████████████████| 2.2MB 8.7MB/s \n",
            "\u001b[?25hRequirement already satisfied: jinja2 in /usr/local/lib/python3.7/dist-packages (from torch_geometric) (2.11.3)\n",
            "Requirement already satisfied: typing-extensions in /usr/local/lib/python3.7/dist-packages (from torch->torch_geometric) (3.7.4.3)\n",
            "Requirement already satisfied: decorator>=4.3.0 in /usr/local/lib/python3.7/dist-packages (from networkx->torch_geometric) (4.4.2)\n",
            "Requirement already satisfied: joblib>=0.11 in /usr/local/lib/python3.7/dist-packages (from scikit-learn->torch_geometric) (1.0.1)\n",
            "Requirement already satisfied: setuptools in /usr/local/lib/python3.7/dist-packages (from numba->torch_geometric) (54.1.2)\n",
            "Requirement already satisfied: llvmlite<0.35,>=0.34.0.dev0 in /usr/local/lib/python3.7/dist-packages (from numba->torch_geometric) (0.34.0)\n",
            "Requirement already satisfied: chardet<4,>=3.0.2 in /usr/local/lib/python3.7/dist-packages (from requests->torch_geometric) (3.0.4)\n",
            "Requirement already satisfied: urllib3!=1.25.0,!=1.25.1,<1.26,>=1.21.1 in /usr/local/lib/python3.7/dist-packages (from requests->torch_geometric) (1.24.3)\n",
            "Requirement already satisfied: idna<3,>=2.5 in /usr/local/lib/python3.7/dist-packages (from requests->torch_geometric) (2.10)\n",
            "Requirement already satisfied: certifi>=2017.4.17 in /usr/local/lib/python3.7/dist-packages (from requests->torch_geometric) (2020.12.5)\n",
            "Requirement already satisfied: python-dateutil>=2.7.3 in /usr/local/lib/python3.7/dist-packages (from pandas->torch_geometric) (2.8.1)\n",
            "Requirement already satisfied: pytz>=2017.2 in /usr/local/lib/python3.7/dist-packages (from pandas->torch_geometric) (2018.9)\n",
            "Requirement already satisfied: pyparsing in /usr/local/lib/python3.7/dist-packages (from rdflib->torch_geometric) (2.4.7)\n",
            "Requirement already satisfied: six in /usr/local/lib/python3.7/dist-packages (from rdflib->torch_geometric) (1.15.0)\n",
            "Collecting isodate\n",
            "\u001b[?25l  Downloading https://files.pythonhosted.org/packages/9b/9f/b36f7774ff5ea8e428fdcfc4bb332c39ee5b9362ddd3d40d9516a55221b2/isodate-0.6.0-py2.py3-none-any.whl (45kB)\n",
            "\u001b[K     |████████████████████████████████| 51kB 5.1MB/s \n",
            "\u001b[?25hRequirement already satisfied: matplotlib>=2.0.0 in /usr/local/lib/python3.7/dist-packages (from ase->torch_geometric) (3.2.2)\n",
            "Requirement already satisfied: MarkupSafe>=0.23 in /usr/local/lib/python3.7/dist-packages (from jinja2->torch_geometric) (1.1.1)\n",
            "Requirement already satisfied: cycler>=0.10 in /usr/local/lib/python3.7/dist-packages (from matplotlib>=2.0.0->ase->torch_geometric) (0.10.0)\n",
            "Requirement already satisfied: kiwisolver>=1.0.1 in /usr/local/lib/python3.7/dist-packages (from matplotlib>=2.0.0->ase->torch_geometric) (1.3.1)\n",
            "Building wheels for collected packages: torch-geometric\n",
            "  Building wheel for torch-geometric (setup.py) ... \u001b[?25l\u001b[?25hdone\n",
            "  Created wheel for torch-geometric: filename=torch_geometric-1.6.3-cp37-none-any.whl size=322719 sha256=563fdebfd1091ae42faf5b075775f1ce6e95719c259c1cd3698ad7c19b4147ea\n",
            "  Stored in directory: /root/.cache/pip/wheels/6d/47/1e/0af8ce3e21783c3e584c22502011a3367c091694eebc50a971\n",
            "Successfully built torch-geometric\n",
            "Installing collected packages: isodate, rdflib, ase, torch-geometric\n",
            "Successfully installed ase-3.21.1 isodate-0.6.0 rdflib-5.0.0 torch-geometric-1.6.3\n"
          ],
          "name": "stdout"
        }
      ]
    },
    {
      "cell_type": "markdown",
      "metadata": {
        "id": "64GFRca1ni24"
      },
      "source": [
        "# 说明\n",
        "这部分的教程来自于PyTorch geometric官网，[点击链接](https://pytorch-geometric.readthedocs.io/en/latest/notes/introduction.html)进入"
      ]
    },
    {
      "cell_type": "markdown",
      "metadata": {
        "id": "Msf_ZiS7r-D0"
      },
      "source": [
        "# 通过例子入门\n",
        "接下来通过一些简单的例子来简单介绍一下PyTorch Geometric中的核心概念，PyTorch Geometric的主要特征如下："
      ]
    },
    {
      "cell_type": "markdown",
      "metadata": {
        "id": "Aj75njYQsYU8"
      },
      "source": [
        "## 图的数据处理\n",
        "这个图和我们的数据结构中使用到的图一样，在各个节点之间通过边连接起来，通过`torch_geometric.data.data`这个实例就能描述出PyTorch Geometric中的一个简单的图，默认的带有以下属性\n",
        "- `data.x`：节点特征矩阵，大小为`[num_nodes, num_node_features]`\n",
        "- `data.edge_index`：以大小`[2, num_edges]`连接的图，类型为`torch.long`\n",
        "- `data.edge_attr`：边缘特征矩阵，大小为`[num_edges, num_edge_features]`\n",
        "- `data.y`：要训练对抗的目标，形状可能任意。有的大小可能为`[num_nodes, *]`，有的目标可能为`[, *]`\n",
        "- `data.ps`：节点的位置矩阵，大小为`[num_nodes, num_dimensions]`\n",
        "这些属性并不是必须的，事实上`data`这个对象并不局限于这些属性。例如，我们可以通过`data.face`来保存在张量中保存三维网格三角形的连通性，大小为`[3,num_faces]`，类型为`torch.long`。"
      ]
    },
    {
      "cell_type": "markdown",
      "metadata": {
        "id": "BdQOZ6QwNrOm"
      },
      "source": [
        "下面展示一个图，它带有3个节点和4条边，但是无权重和无方向。每个节点事实上只含有一个特征"
      ]
    },
    {
      "cell_type": "code",
      "metadata": {
        "id": "UN--8cbsKokx"
      },
      "source": [
        "import torch\n",
        "from torch_geometric.data import Data\n",
        "\n",
        "edge_index = torch.tensor([[0, 1, 1, 2], [1, 0, 2, 1]], dtype=torch.long) # 即 0<->1, 1<->2，两个双向所以为无向\n",
        "x = torch.tensor([[-1], [0], [1]], dtype=torch.float)\n",
        "\n",
        "data = Data(x=x, edge_index=edge_index)"
      ],
      "execution_count": 15,
      "outputs": []
    },
    {
      "cell_type": "markdown",
      "metadata": {
        "id": "YrO3ggJ8QekC"
      },
      "source": [
        "我们最后得到的data就如下图所示\n",
        "\n",
        "![图片](https://pytorch-geometric.readthedocs.io/en/latest/_images/graph.svg)\n",
        "\n",
        "***注意：***其中的`edge_index`，这个tensor向量定义了源节点和目标域节点的所有边，不是索引元组组成的列表。如果想要写成自己的索引，应该将它专职，然后再它进入数据构造器之前调用`contiguous`函数。"
      ]
    },
    {
      "cell_type": "code",
      "metadata": {
        "id": "NvbfgcLfR6mj"
      },
      "source": [
        "import torch\n",
        "from torch_geometric.data import Data\n",
        "\n",
        "edge_index = torch.tensor([[0, 1],[1, 0],[1, 2],[2, 1]], dtype=torch.long) # 同样为0<->1, 1<->2\n",
        "x = torch.tensor([[-1], [0], [1]], dtype=torch.float)\n",
        "\n",
        "data = Data(x=x, edge_index=edge_index.t().contiguous())\n"
      ],
      "execution_count": 17,
      "outputs": []
    },
    {
      "cell_type": "markdown",
      "metadata": {
        "id": "hJ9sqiArkAS0"
      },
      "source": [
        "通过上面的例子我们可以看到，只有2个点，4条边，但是矩阵却用了4个,$[0,1], [1,0], [1,2], [2,1]$\n",
        "下面我们可以打印一下关于这个`data`的属性"
      ]
    },
    {
      "cell_type": "code",
      "metadata": {
        "id": "QIAhTcpvnbLY",
        "colab": {
          "base_uri": "https://localhost:8080/"
        },
        "outputId": "4276a121-cbbd-4080-e793-9d69c1ef50c7"
      },
      "source": [
        "print(data.keys)      # 通过结果可以看到，data是一个字典，data[节点: x, 边: edge_index]"
      ],
      "execution_count": 19,
      "outputs": [
        {
          "output_type": "stream",
          "text": [
            "['x', 'edge_index']\n"
          ],
          "name": "stdout"
        }
      ]
    },
    {
      "cell_type": "code",
      "metadata": {
        "colab": {
          "base_uri": "https://localhost:8080/"
        },
        "id": "x2aWOVCgkydt",
        "outputId": "58f76336-b353-46c4-b7a1-074072c13562"
      },
      "source": [
        "print(data['x'])"
      ],
      "execution_count": 20,
      "outputs": [
        {
          "output_type": "stream",
          "text": [
            "tensor([[-1.],\n",
            "        [ 0.],\n",
            "        [ 1.]])\n"
          ],
          "name": "stdout"
        }
      ]
    },
    {
      "cell_type": "code",
      "metadata": {
        "colab": {
          "base_uri": "https://localhost:8080/"
        },
        "id": "3R4NxZXBk9yJ",
        "outputId": "1b7115dc-3a98-40b2-fa12-95817a417039"
      },
      "source": [
        "for key, item in data:\n",
        "    print(\"{} found in data\".format(key))"
      ],
      "execution_count": 21,
      "outputs": [
        {
          "output_type": "stream",
          "text": [
            "edge_index found in data\n",
            "x found in data\n"
          ],
          "name": "stdout"
        }
      ]
    },
    {
      "cell_type": "code",
      "metadata": {
        "colab": {
          "base_uri": "https://localhost:8080/"
        },
        "id": "p-jtoQCRlBdd",
        "outputId": "3cce12aa-d566-4df8-b23f-b25efbec02f1"
      },
      "source": [
        "data.num_nodes    # 图的节点数"
      ],
      "execution_count": 22,
      "outputs": [
        {
          "output_type": "execute_result",
          "data": {
            "text/plain": [
              "3"
            ]
          },
          "metadata": {
            "tags": []
          },
          "execution_count": 22
        }
      ]
    },
    {
      "cell_type": "code",
      "metadata": {
        "colab": {
          "base_uri": "https://localhost:8080/"
        },
        "id": "mjoQJUfLlHM8",
        "outputId": "c1523c40-a957-45fc-dcc3-c49c45fabd49"
      },
      "source": [
        "data.num_edges    # 图的边数"
      ],
      "execution_count": 23,
      "outputs": [
        {
          "output_type": "execute_result",
          "data": {
            "text/plain": [
              "4"
            ]
          },
          "metadata": {
            "tags": []
          },
          "execution_count": 23
        }
      ]
    },
    {
      "cell_type": "code",
      "metadata": {
        "colab": {
          "base_uri": "https://localhost:8080/"
        },
        "id": "z2vsSXW_lMIS",
        "outputId": "21f75872-cc6b-43ec-fcc2-73946b21011c"
      },
      "source": [
        "data.num_node_features    # 节点的特征个数"
      ],
      "execution_count": 24,
      "outputs": [
        {
          "output_type": "execute_result",
          "data": {
            "text/plain": [
              "1"
            ]
          },
          "metadata": {
            "tags": []
          },
          "execution_count": 24
        }
      ]
    },
    {
      "cell_type": "code",
      "metadata": {
        "colab": {
          "base_uri": "https://localhost:8080/"
        },
        "id": "rjRpmvHflWtM",
        "outputId": "8485a75f-9026-47e5-c47d-265ea046c3b3"
      },
      "source": [
        "data.contains_isolated_nodes() # 包含孤立点？"
      ],
      "execution_count": 26,
      "outputs": [
        {
          "output_type": "execute_result",
          "data": {
            "text/plain": [
              "False"
            ]
          },
          "metadata": {
            "tags": []
          },
          "execution_count": 26
        }
      ]
    },
    {
      "cell_type": "code",
      "metadata": {
        "colab": {
          "base_uri": "https://localhost:8080/"
        },
        "id": "GUhGjXrmlftT",
        "outputId": "0b3f62df-bc04-47a1-d294-931d1367ff8d"
      },
      "source": [
        "data.contains_self_loops()  # 图中包含循环？"
      ],
      "execution_count": 25,
      "outputs": [
        {
          "output_type": "execute_result",
          "data": {
            "text/plain": [
              "False"
            ]
          },
          "metadata": {
            "tags": []
          },
          "execution_count": 25
        }
      ]
    },
    {
      "cell_type": "code",
      "metadata": {
        "colab": {
          "base_uri": "https://localhost:8080/"
        },
        "id": "bTLL0IGflofM",
        "outputId": "c75a2082-cc08-4b49-9ccb-39af0fb71227"
      },
      "source": [
        "data.is_directed()    # 图是有向的？"
      ],
      "execution_count": 27,
      "outputs": [
        {
          "output_type": "execute_result",
          "data": {
            "text/plain": [
              "False"
            ]
          },
          "metadata": {
            "tags": []
          },
          "execution_count": 27
        }
      ]
    },
    {
      "cell_type": "code",
      "metadata": {
        "id": "7ekDEzKRluH5"
      },
      "source": [
        "# Transfer data object to GPU.\n",
        "device = torch.device('cuda')\n",
        "data = data.to(device)"
      ],
      "execution_count": null,
      "outputs": []
    },
    {
      "cell_type": "markdown",
      "metadata": {
        "id": "IxH0Ukfql8Wa"
      },
      "source": [
        "这些方法都可以在`torch.geometric.data.Data`中找到"
      ]
    },
    {
      "cell_type": "markdown",
      "metadata": {
        "id": "XFsbxAowmGce"
      },
      "source": [
        "## 常见基准数据集"
      ]
    },
    {
      "cell_type": "markdown",
      "metadata": {
        "id": "-1yfFXZvnRup"
      },
      "source": [
        "PyTorch Geometric包含许多常见的数据集。例如：所有行星的数据集（Cora, Citeseer, Pubmed），所有用于图分类的数据集，这里是它们的[链接](https://ls11-www.cs.tu-dortmund.de/staff/morris/graphkerneldatasets)和[纯净版的链接](https://github.com/nd7141/graph_datasets)，QM7和QM9数据集，少量的点云数据集，例如：FAUST, ModelNet10/40和ShapeNet"
      ]
    },
    {
      "cell_type": "markdown",
      "metadata": {
        "id": "QrfS2kmbtr4D"
      },
      "source": [
        "### ENZYMES数据集"
      ]
    },
    {
      "cell_type": "markdown",
      "metadata": {
        "id": "OSeFplcsoVCM"
      },
      "source": [
        "初始化数据集很简单。数据集的初始化将自动下载其原始文件并将其处理为前面描述的`Data`格式。例如，加载ENZYMES数据集（包含600个图，含有6各类）"
      ]
    },
    {
      "cell_type": "code",
      "metadata": {
        "colab": {
          "base_uri": "https://localhost:8080/"
        },
        "id": "-RwkXDVRmIx1",
        "outputId": "14bbb702-276f-47c4-e5fc-b1093f909dc6"
      },
      "source": [
        "from torch_geometric.datasets import TUDataset\n",
        "\n",
        "dataset = TUDataset(root='/tmp/ENZYMES', name='ENZYMES')\n",
        "print('图的大小{0},类的个数{1},节点的特征个数{2}'.format(len(dataset), dataset.num_classes, dataset.num_node_features))"
      ],
      "execution_count": 29,
      "outputs": [
        {
          "output_type": "stream",
          "text": [
            "Downloading https://www.chrsmrrs.com/graphkerneldatasets/ENZYMES.zip\n",
            "Extracting /tmp/ENZYMES/ENZYMES/ENZYMES.zip\n",
            "Processing...\n",
            "Done!\n",
            "图的大小600,类的个数6,节点的特征个数3\n"
          ],
          "name": "stdout"
        }
      ]
    },
    {
      "cell_type": "markdown",
      "metadata": {
        "id": "zudkLmOFpllv"
      },
      "source": [
        "我们现在得到了这600个图"
      ]
    },
    {
      "cell_type": "code",
      "metadata": {
        "colab": {
          "base_uri": "https://localhost:8080/"
        },
        "id": "iZrQORoZpdhw",
        "outputId": "2e5d8a80-1cc9-4498-9c91-43b47f557690"
      },
      "source": [
        "data = dataset[0]\n",
        "print(data)\n",
        "data.is_undirected()\n",
        "print('图的节点数{0}，图的边数{1}，图的特征个数{2}'.format(data.num_nodes,data.num_edges,data.num_node_features))    # 图的节点数\n",
        "print('是否包含孤立点{0}，是否包含循环{1}'.format(data.contains_isolated_nodes(), data.contains_self_loops()))"
      ],
      "execution_count": 32,
      "outputs": [
        {
          "output_type": "stream",
          "text": [
            "Data(edge_index=[2, 168], x=[37, 3], y=[1])\n",
            "图的节点数37，图的边数168，图的特征个数3\n",
            "是否包含孤立点False，是否包含循环False\n"
          ],
          "name": "stdout"
        }
      ]
    },
    {
      "cell_type": "markdown",
      "metadata": {
        "id": "2GdpZ-tWrA-k"
      },
      "source": [
        "我们可以通过切片索引，或者tensor向量来将我们的数据分成训练集和测试集"
      ]
    },
    {
      "cell_type": "code",
      "metadata": {
        "id": "nwMkEfojrNeZ"
      },
      "source": [
        "train_dataset = dataset[:540]\n",
        "test_dataset = dataset[540:]"
      ],
      "execution_count": 33,
      "outputs": []
    },
    {
      "cell_type": "markdown",
      "metadata": {
        "id": "9U9c4vrZrX_O"
      },
      "source": [
        "可以在将数据分割之前先打乱一下"
      ]
    },
    {
      "cell_type": "code",
      "metadata": {
        "id": "-uRnVu6srcSV"
      },
      "source": [
        "# 打乱方法一：\n",
        "dataset = dataset.shuffle()\n",
        "# 打乱方法二：\n",
        "perm = torch.randperm(len(dataset))\n",
        "dataset = dataset[perm]"
      ],
      "execution_count": 34,
      "outputs": []
    },
    {
      "cell_type": "markdown",
      "metadata": {
        "id": "R5QV6izFtmk5"
      },
      "source": [
        "### Cora数据集"
      ]
    },
    {
      "cell_type": "markdown",
      "metadata": {
        "id": "YSL626f7r1xt"
      },
      "source": [
        "尝试另一个数据集：Cora，这个是一个用于半监督图节点分类的标准数据集"
      ]
    },
    {
      "cell_type": "code",
      "metadata": {
        "colab": {
          "base_uri": "https://localhost:8080/"
        },
        "id": "QxabjBNAr-Pe",
        "outputId": "81fea372-1b7e-4c93-b6b2-c8fc87f452cf"
      },
      "source": [
        "from torch_geometric.datasets import Planetoid\n",
        "\n",
        "dataset = Planetoid(root='/tmp/Cora', name='Cora')\n",
        "print('图的大小{0},类的个数{1},节点的特征个数{2}'.format(len(dataset),dataset.num_classes,dataset.num_node_features))"
      ],
      "execution_count": 37,
      "outputs": [
        {
          "output_type": "stream",
          "text": [
            "图的大小1,类的个数7,节点的特征个数1433\n"
          ],
          "name": "stdout"
        }
      ]
    },
    {
      "cell_type": "markdown",
      "metadata": {
        "id": "g03Sk2mdtG9H"
      },
      "source": [
        "这个数据集是一个无向的，且只有一个图的数据集"
      ]
    },
    {
      "cell_type": "code",
      "metadata": {
        "colab": {
          "base_uri": "https://localhost:8080/"
        },
        "id": "vhy9fYmxtLMx",
        "outputId": "ba0f4497-5eff-4d6f-a8b8-e023cd7bba00"
      },
      "source": [
        "data = dataset[0]\n",
        "data.is_undirected()\n",
        "data.train_mask.sum().item()\n",
        "data.val_mask.sum().item()\n",
        "data.test_mask.sum().item()"
      ],
      "execution_count": 38,
      "outputs": [
        {
          "output_type": "execute_result",
          "data": {
            "text/plain": [
              "1000"
            ]
          },
          "metadata": {
            "tags": []
          },
          "execution_count": 38
        }
      ]
    },
    {
      "cell_type": "markdown",
      "metadata": {
        "id": "NwPjkYx9tvXg"
      },
      "source": [
        "这次，这个`Data`对象的每个节点都有了一个标签，并且还有额外的属性：`train_mask`,`val_mask`,`test_mask`\n",
        "- `train_mask`：表示要训练的节点（140个节点）\n",
        "- `val_mask`：用于验证的节点，可以用于提早停止（500个节点）\n",
        "- `test_mask`：用于验证的节点（1000个节点）"
      ]
    },
    {
      "cell_type": "markdown",
      "metadata": {
        "id": "gdzABuJmue1b"
      },
      "source": [
        "## 小批次"
      ]
    },
    {
      "cell_type": "markdown",
      "metadata": {
        "id": "beMwwTMpuglx"
      },
      "source": [
        "神经网络经常小批次的训练数据，PyTorch Geometric通过创建稀疏块对角邻接矩阵（参数中的`edge_index`）在小批上实现并行化，然后在节点维度上拼接特征和目标矩阵，这种组合允许在一批示例中使用不同数量的节点和边。\n",
        "$$\\begin{split}\\mathbf{A} = \\begin{bmatrix} \\mathbf{A}_1 & & \\\\ & \\ddots & \\\\ & & \\mathbf{A}_n \\end{bmatrix}, \\qquad \\mathbf{X} = \\begin{bmatrix} \\mathbf{X}_1 \\\\ \\vdots \\\\ \\mathbf{X}_n \\end{bmatrix}, \\qquad \\mathbf{Y} = \\begin{bmatrix} \\mathbf{Y}_1 \\\\ \\vdots \\\\ \\mathbf{Y}_n \\end{bmatrix}\\end{split}$$\n",
        "PyTorch Geometric有它自己的`torch_geometric.data.DataLoader`，其中就有拼接操作，接下来看一下个例子。"
      ]
    },
    {
      "cell_type": "code",
      "metadata": {
        "colab": {
          "base_uri": "https://localhost:8080/"
        },
        "id": "zilTGfpRwp2T",
        "outputId": "c017f177-e4fe-476e-b2d2-067c4f1d622f"
      },
      "source": [
        "from torch_geometric.datasets import TUDataset\n",
        "from torch_geometric.data import DataLoader\n",
        "\n",
        "dataset = TUDataset(root='/tmp/ENZYMES', name='ENZYMES', use_node_attr=True)\n",
        "loader = DataLoader(dataset, batch_size=32, shuffle=True)\n",
        "for batch in loader:\n",
        "  print(batch)\n",
        "  print(batch.num_graphs)   # 图的个数"
      ],
      "execution_count": 42,
      "outputs": [
        {
          "output_type": "stream",
          "text": [
            "Batch(batch=[958], edge_index=[2, 3776], x=[958, 21], y=[32])\n",
            "32\n",
            "Batch(batch=[1187], edge_index=[2, 4346], x=[1187, 21], y=[32])\n",
            "32\n",
            "Batch(batch=[1193], edge_index=[2, 4424], x=[1193, 21], y=[32])\n",
            "32\n",
            "Batch(batch=[1095], edge_index=[2, 4174], x=[1095, 21], y=[32])\n",
            "32\n",
            "Batch(batch=[1056], edge_index=[2, 3680], x=[1056, 21], y=[32])\n",
            "32\n",
            "Batch(batch=[1039], edge_index=[2, 3860], x=[1039, 21], y=[32])\n",
            "32\n",
            "Batch(batch=[1071], edge_index=[2, 4138], x=[1071, 21], y=[32])\n",
            "32\n",
            "Batch(batch=[954], edge_index=[2, 3634], x=[954, 21], y=[32])\n",
            "32\n",
            "Batch(batch=[1027], edge_index=[2, 3916], x=[1027, 21], y=[32])\n",
            "32\n",
            "Batch(batch=[973], edge_index=[2, 3764], x=[973, 21], y=[32])\n",
            "32\n",
            "Batch(batch=[933], edge_index=[2, 3570], x=[933, 21], y=[32])\n",
            "32\n",
            "Batch(batch=[1130], edge_index=[2, 4142], x=[1130, 21], y=[32])\n",
            "32\n",
            "Batch(batch=[1120], edge_index=[2, 4496], x=[1120, 21], y=[32])\n",
            "32\n",
            "Batch(batch=[1057], edge_index=[2, 4174], x=[1057, 21], y=[32])\n",
            "32\n",
            "Batch(batch=[979], edge_index=[2, 3884], x=[979, 21], y=[32])\n",
            "32\n",
            "Batch(batch=[1094], edge_index=[2, 4036], x=[1094, 21], y=[32])\n",
            "32\n",
            "Batch(batch=[996], edge_index=[2, 3866], x=[996, 21], y=[32])\n",
            "32\n",
            "Batch(batch=[946], edge_index=[2, 3610], x=[946, 21], y=[32])\n",
            "32\n",
            "Batch(batch=[772], edge_index=[2, 3074], x=[772, 21], y=[24])\n",
            "24\n"
          ],
          "name": "stdout"
        }
      ]
    },
    {
      "cell_type": "markdown",
      "metadata": {
        "id": "1OH6hqVFxtrR"
      },
      "source": [
        "`torch_geometric.data.Batch`继承自`torch_geometric.data.Data`，包含了一个额外的属性叫做`batch`。\n",
        "\n",
        "`batch`是一个列向量，将每个节点映射到`batch`中各自的图上:\n",
        "$$\\mathrm{batch} = {\\begin{bmatrix} 0 & \\cdots & 0 & 1 & \\cdots & n - 2 & n -1 & \\cdots & n - 1 \\end{bmatrix}}^{\\top}$$\n",
        "\n",
        "可以在每个图中的节点维度上来平均节点特征（不太懂这句话）"
      ]
    },
    {
      "cell_type": "code",
      "metadata": {
        "id": "nf6OMIGNywuE"
      },
      "source": [
        "from torch_scatter import scatter_mean\n",
        "from torch_geometric.datasets import TUDataset\n",
        "from torch_geometric.data import DataLoader\n",
        "\n",
        "dataset = TUDataset(root='/tmp/ENZYMES', name='ENZYMES', use_node_attr=True)\n",
        "loader = DataLoader(dataset, batch_size=32, shuffle=True)\n",
        "for data in loader:\n",
        "    print(data)\n",
        "    print(data.num_graphs)\n",
        "    x = scatter_mean(data.x, data.batch, dim=0)\n",
        "    print(x.size())"
      ],
      "execution_count": null,
      "outputs": []
    },
    {
      "cell_type": "markdown",
      "metadata": {
        "id": "ONqvhRIOzGDO"
      },
      "source": [
        "你可以[在这里](https://pytorch-geometric.readthedocs.io/en/latest/notes/batching.html)了解更多关于PyTorch Geometric内部批处理过程的信息，例如，如何修改它的行为。关于分散操作的文档，有兴趣的读者可以参考`torch-scatter`[文档](https://pytorch-scatter.readthedocs.io/)。"
      ]
    },
    {
      "cell_type": "markdown",
      "metadata": {
        "id": "69SNX2-4zfYA"
      },
      "source": [
        "## 数据转换"
      ]
    },
    {
      "cell_type": "markdown",
      "metadata": {
        "id": "ZhwYr7tazd0r"
      },
      "source": [
        "变换是`torchvision`中对图像进行变换和增强的常用方法。PyTorch Geometric附带了自己的转换，它期望一个`Data`对象作为输入，并返回一个新的转换后的`Data`对象。变换可以使用`torch_geometry.Transforms.Compose`链接在一起。在将已处理的数据集保存到磁盘(`pre_transform`)或访问数据集(`transform`)中的图之前应用合成和。"
      ]
    },
    {
      "cell_type": "markdown",
      "metadata": {
        "id": "Jbx2dvTE0BfC"
      },
      "source": [
        "让我们看一个例子，在ShapeNet数据集(包含17000个3D形状点云和来自16个形状类别的每个点标签)上应用变换。"
      ]
    },
    {
      "cell_type": "code",
      "metadata": {
        "colab": {
          "base_uri": "https://localhost:8080/"
        },
        "id": "iQq6z_sk0CCF",
        "outputId": "1f1f9bda-71ca-4ce1-a56d-9a4ef06f7762"
      },
      "source": [
        "from torch_geometric.datasets import ShapeNet\n",
        "\n",
        "dataset = ShapeNet(root='/tmp/ShapeNet', categories=['Airplane'])\n",
        "\n",
        "data = dataset[0]\n",
        "print(data)"
      ],
      "execution_count": 43,
      "outputs": [
        {
          "output_type": "stream",
          "text": [
            "Downloading https://shapenet.cs.stanford.edu/media/shapenetcore_partanno_segmentation_benchmark_v0_normal.zip\n",
            "Extracting /tmp/ShapeNet/shapenetcore_partanno_segmentation_benchmark_v0_normal.zip\n",
            "Processing...\n",
            "Done!\n",
            "Data(category=[1], pos=[2518, 3], x=[2518, 3], y=[2518])\n"
          ],
          "name": "stdout"
        }
      ]
    },
    {
      "cell_type": "markdown",
      "metadata": {
        "id": "BN4uuNwS0O8k"
      },
      "source": [
        "我们可以将点云数据集转换为一个图数据集，通过变换从点云生成最近的邻居图:"
      ]
    },
    {
      "cell_type": "code",
      "metadata": {
        "id": "B9lDVUAI0PvI"
      },
      "source": [
        "import torch_geometric.transforms as T\n",
        "from torch_geometric.datasets import ShapeNet\n",
        "\n",
        "dataset = ShapeNet(root='/tmp/ShapeNet', categories=['Airplane'],\n",
        "                    pre_transform=T.KNNGraph(k=6))\n",
        "\n",
        "data = dataset[0]\n",
        "print(data)"
      ],
      "execution_count": null,
      "outputs": []
    },
    {
      "cell_type": "markdown",
      "metadata": {
        "id": "kMcJRMtJ0Z3X"
      },
      "source": [
        "***注意***\n",
        "> 在将数据保存到磁盘之前，我们使用pre_transform对数据进行转换(从而缩短加载时间)。请注意，下一次初始化数据集时，即使您没有传递任何转换，它也将已经包含图形边。"
      ]
    },
    {
      "cell_type": "markdown",
      "metadata": {
        "id": "n6ypMx8N00Vo"
      },
      "source": [
        "此外，我们可以使用`transform`参数来随机增加一个数据对象，例如，将每个节点的位置平移一个小的数字:"
      ]
    },
    {
      "cell_type": "code",
      "metadata": {
        "id": "l5rySu-h0270"
      },
      "source": [
        "import torch_geometric.transforms as T\n",
        "from torch_geometric.datasets import ShapeNet\n",
        "\n",
        "dataset = ShapeNet(root='/tmp/ShapeNet', categories=['Airplane'],\n",
        "                    pre_transform=T.KNNGraph(k=6),\n",
        "                    transform=T.RandomTranslate(0.01))\n",
        "\n",
        "data = dataset[0]\n",
        "print(data)"
      ],
      "execution_count": null,
      "outputs": []
    },
    {
      "cell_type": "markdown",
      "metadata": {
        "id": "XnEZmW1R0_4s"
      },
      "source": [
        "可以在`torch_geometric.transforms`中找到完整的变换"
      ]
    },
    {
      "cell_type": "markdown",
      "metadata": {
        "id": "HnZTAid61Hm9"
      },
      "source": [
        "## 图网络的学习过程"
      ]
    },
    {
      "cell_type": "markdown",
      "metadata": {
        "id": "m6wT6n4z1Toa"
      },
      "source": [
        "在学完数据的加载，变换以后，接下来就是图神经网络的实现过程了。\n",
        "\n",
        "使用一个简单的GCN层，在Cora引用数据集上复制实。对于更多的关于GCN的解释，[在这个博客中观看](http://tkipf.github.io/graph-convolutional-networks/)。"
      ]
    },
    {
      "cell_type": "markdown",
      "metadata": {
        "id": "Y6qy6IdB2Kpt"
      },
      "source": [
        "载入数据"
      ]
    },
    {
      "cell_type": "code",
      "metadata": {
        "id": "8dJ5-HZk2Md5"
      },
      "source": [
        "from torch_geometric.datasets import Planetoid\n",
        "\n",
        "dataset = Planetoid(root='/tmp/Cora', name='Cora')"
      ],
      "execution_count": 44,
      "outputs": []
    },
    {
      "cell_type": "markdown",
      "metadata": {
        "id": "ngh18zT62TXt"
      },
      "source": [
        "我们接下来并不需要`transform`或者`dataloader`，现在先做一个两层的GCN"
      ]
    },
    {
      "cell_type": "code",
      "metadata": {
        "id": "KFiuvQAp1MQQ"
      },
      "source": [
        "import torch\n",
        "import torch.nn.functional as F\n",
        "from torch_geometric.nn import GCNConv\n",
        "\n",
        "class Net(torch.nn.Module):\n",
        "  def __init__(self):\n",
        "    super(Net, self).__init__()\n",
        "    self.conv1 = GCNConv(dataset.num_node_features, 16)\n",
        "    self.conv2 = GCNConv(16, dataset.num_classes)\n",
        "  def forward(self, data):\n",
        "    x, edge_index = data.x, data.edge_index\n",
        "    x = self.conv1(x, edge_index)\n",
        "    x = F.relu(x)\n",
        "    x = F.dropout(x, training=self.training)\n",
        "    x = self.conv2(x, edge_index)\n",
        "\n",
        "    return F.log_softmax(x, dim=1)"
      ],
      "execution_count": 45,
      "outputs": []
    },
    {
      "cell_type": "markdown",
      "metadata": {
        "id": "UX3oCBEF3Y3T"
      },
      "source": [
        "构造函数定义了两个`GCNConv`层，它们在网络的前向传递过程中被调用。请注意，非线性没有集成到`conv`调用中，因此需要在之后应用(这在PyTorch Geometric中的所有操作符中都是一致的)。在这里，我们选择使用`ReLU`作为我们的中间非线性，并最终在类的数量上输出一个softmax分布。训练这个模型200个轮回:"
      ]
    },
    {
      "cell_type": "code",
      "metadata": {
        "id": "yQD-X4nQ3sd4"
      },
      "source": [
        "device = torch.device('cuda' if torch.cuda.is_available() else 'cpu')\n",
        "model = Net().to(device)\n",
        "data = dataset[0].to(device)\n",
        "optimizer = torch.optim.Adam(model.parameters(), lr=0.01, weight_decay=5e-4)\n",
        "\n",
        "model.train()\n",
        "for epoch in range(200):\n",
        "    optimizer.zero_grad()\n",
        "    out = model(data)\n",
        "    loss = F.nll_loss(out[data.train_mask], data.y[data.train_mask])\n",
        "    loss.backward()\n",
        "    optimizer.step()"
      ],
      "execution_count": 46,
      "outputs": []
    },
    {
      "cell_type": "markdown",
      "metadata": {
        "id": "fZBzFHJi3vCn"
      },
      "source": [
        "最后在验证节点上验证模型"
      ]
    },
    {
      "cell_type": "code",
      "metadata": {
        "colab": {
          "base_uri": "https://localhost:8080/"
        },
        "id": "PnzGButr3za-",
        "outputId": "f2e10eaa-8ff7-4d41-f199-e5ff5920b0a8"
      },
      "source": [
        "model.eval()\n",
        "_, pred = model(data).max(dim=1)\n",
        "correct = int(pred[data.test_mask].eq(data.y[data.test_mask]).sum().item())\n",
        "acc = correct / int(data.test_mask.sum())\n",
        "print('Accuracy: {:.4f}'.format(acc))"
      ],
      "execution_count": 47,
      "outputs": [
        {
          "output_type": "stream",
          "text": [
            "Accuracy: 0.7920\n"
          ],
          "name": "stdout"
        }
      ]
    },
    {
      "cell_type": "markdown",
      "metadata": {
        "id": "dOudGtGw3_2Y"
      },
      "source": [
        "至此，第一个图神经网络已经学习完成了。最简单的学习图神经网络的方式就是学习文件夹`examples/`中的例子，然后浏览`torch_geometric.nn`。祝学习快乐。"
      ]
    }
  ]
}